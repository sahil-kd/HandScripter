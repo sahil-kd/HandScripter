{
 "cells": [
  {
   "cell_type": "markdown",
   "metadata": {},
   "source": [
    "## <i>Background remover</i>"
   ]
  },
  {
   "cell_type": "markdown",
   "metadata": {},
   "source": [
    "<u>**We will be using two pre-existing libraries to remove background from an image, and extend it to video**</u>"
   ]
  },
  {
   "cell_type": "markdown",
   "metadata": {},
   "source": [
    "**Note: This file is a part of a separate project, ignore it**"
   ]
  },
  {
   "cell_type": "markdown",
   "metadata": {},
   "source": [
    "Install them using:\n",
    "- pip install rembg\n",
    "- pip install pillow"
   ]
  },
  {
   "cell_type": "markdown",
   "metadata": {},
   "source": [
    "#### Now to remove background from an image we'll do this:"
   ]
  },
  {
   "cell_type": "code",
   "execution_count": null,
   "metadata": {},
   "outputs": [],
   "source": [
    "from rembg import remove\n",
    "from PIL import Image\n",
    "# img = Image.open(\"full_path/to/image.ext\")\n",
    "img = Image.open(\"C:/Users/dell/Downloads/photo.jpg\")\n",
    "removedBg_img = remove(img)\n",
    "removedBg_img = removedBg_img.convert(\"RGB\")\n",
    "removedBg_img.save(\"photo_noBg.jpg\")"
   ]
  },
  {
   "cell_type": "code",
   "execution_count": null,
   "metadata": {},
   "outputs": [],
   "source": [
    "import cv2 as cv\n",
    "\n",
    "# Open the video file or capture from a camera\n",
    "# I'm using cv2.CAP_FFMPEG video backend else it wasn't able to capture frame\n",
    "cap = cv.VideoCapture(\"C:/Users/dell/Downloads/video.mp4\", cv.CAP_FFMPEG)\n",
    "# cap = cv.VideoCapture(0) # for front-camera video feed\n",
    "\n",
    "while cap.isOpened():\n",
    "    ret, frame = cap.read()\n",
    "\n",
    "    if not ret:\n",
    "        print(\"Failed to capture frame.\")\n",
    "        break\n",
    "\n",
    "    # Perform operations on the current frame here\n",
    "    # For example, you can display the frame, process it, or save it as an image\n",
    "\n",
    "    # Display the frame\n",
    "    cv.imshow(\"Frame\", frame)\n",
    "\n",
    "    # Break the loop if the 'q' key is pressed\n",
    "    if cv.waitKey(25) & 0xFF == ord(\"q\"):\n",
    "        break\n",
    "\n",
    "# Release the video capture object and close any open windows\n",
    "cap.release()\n",
    "cv.destroyAllWindows()"
   ]
  },
  {
   "cell_type": "code",
   "execution_count": 7,
   "metadata": {},
   "outputs": [],
   "source": [
    "import cv2 as cv\n",
    "from rembg import remove\n",
    "from PIL import Image\n",
    "import numpy as np\n",
    "\n",
    "# This will return video from the first webcam on your computer.\n",
    "# cap = cv.VideoCapture(0)\n",
    "cap = cv.VideoCapture(\"C:/Users/dell/Downloads/video.mp4\", cv.CAP_FFMPEG)\n",
    "\n",
    "\n",
    "# Define the codec and create VideoWriter object, resolution = (640, 480)\n",
    "fourcc = cv.VideoWriter_fourcc(*'H264')\n",
    "out = cv.VideoWriter('output.mp4', fourcc, 30.0, (640, 480))\n",
    "\n",
    "# loop runs if capturing has been initialized.\n",
    "while True:\n",
    "    # reads frames from a camera\n",
    "    ret, frame = cap.read()\n",
    "\n",
    "    if not ret:\n",
    "        break\n",
    "\n",
    "    # Convert the OpenCV frame to a PIL Image\n",
    "    img = Image.fromarray(frame)\n",
    "\n",
    "    # Remove the background\n",
    "    removedBg_img = remove(img)\n",
    "\n",
    "    # Convert the PIL Image back to a NumPy array\n",
    "    removedBg_frame = np.array(removedBg_img)\n",
    "\n",
    "    # output the frame\n",
    "    out.write(removedBg_frame)\n",
    "\n",
    "    # The original input frame is shown in the window\n",
    "    cv.imshow('Original', frame)\n",
    "\n",
    "    # The window showing the operated video stream\n",
    "    cv.imshow('frame', removedBg_frame)\n",
    "\n",
    "    # Wait for 'q' key to stop the program\n",
    "    if cv.waitKey(25) & 0xFF == ord(\"q\"):\n",
    "        break\n",
    "\n",
    "# Close the window / Release webcam\n",
    "cap.release()\n",
    "\n",
    "# After we release our webcam, we also release the output\n",
    "out.release()\n",
    "\n",
    "# De-allocate any associated memory usage\n",
    "cv.destroyAllWindows()"
   ]
  }
 ],
 "metadata": {
  "kernelspec": {
   "display_name": "Python 3",
   "language": "python",
   "name": "python3"
  },
  "language_info": {
   "codemirror_mode": {
    "name": "ipython",
    "version": 3
   },
   "file_extension": ".py",
   "mimetype": "text/x-python",
   "name": "python",
   "nbconvert_exporter": "python",
   "pygments_lexer": "ipython3",
   "version": "3.10.11"
  }
 },
 "nbformat": 4,
 "nbformat_minor": 2
}
