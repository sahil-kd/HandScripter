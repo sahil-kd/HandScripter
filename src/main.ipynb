{
 "cells": [
  {
   "cell_type": "code",
   "execution_count": 2,
   "metadata": {},
   "outputs": [],
   "source": [
    "import cv2 as cv\n",
    "import numpy as np\n",
    "import tensorflow as tf\n",
    "import os\n",
    "import matplotlib.pyplot as plt"
   ]
  },
  {
   "cell_type": "markdown",
   "metadata": {},
   "source": [
    "Install/update python, then install the following python libs:\n",
    "\n",
    "- pip install opencv-contrib-python (computer vision lib used for image editing (contrib installs all contributions))\n",
    "- pip install tensorflow            (used for working with deep-learning networks)\n",
    "- pip install numpy                 (used for working with matrices)\n",
    "- pip install matplotlib            (this is used to visualize digits and points like MATLAB (optional))\n",
    "- Also install the Black Formatter extension for python formatting on save (equivalent of prettier for js)\n",
    "- To run this file, cd to Handwritting_recognizer then run: **python src/main.py**"
   ]
  },
  {
   "cell_type": "code",
   "execution_count": null,
   "metadata": {},
   "outputs": [],
   "source": [
    "# First we will load the dataset directly from tf module instead of downloading csv files and pre-processing them\n",
    "mnist = tf.keras.datasets.mnist"
   ]
  },
  {
   "cell_type": "markdown",
   "metadata": {},
   "source": [
    "- Now during training we have labelled data meaning we know what digit each picture corresponds to\n",
    "- We split the labelled data into two parts: 1. Training data (80% of labelled data), 2. Testing data (20%)\n",
    "- But in this case we use the load data function from mnist dataset which is already 80:20 splitted\n",
    "- x-data refers to the actual image as a flattened matric of pixels (it's just the pixel data)\n",
    "- y-data refers to the labelled digit i.e. what digit the image actually is"
   ]
  },
  {
   "cell_type": "code",
   "execution_count": null,
   "metadata": {},
   "outputs": [],
   "source": [
    "# this function returns two tuples (destructuring)\n",
    "(x_train, y_train), (x_test, y_test) = mnist.load_data()"
   ]
  },
  {
   "cell_type": "markdown",
   "metadata": {},
   "source": [
    "- Now we will normalize it meaning scale it down between 0 and 1, e.g. grayscale intensity value is between 0 to 255\n",
    "- On normalizing it we get between 0 and 1\n",
    "- Keep in mind we only wanna normalize the pixel values and not the labelling digits to make it easier for neural network\n",
    "- to do the calculations"
   ]
  },
  {
   "cell_type": "code",
   "execution_count": 75,
   "metadata": {},
   "outputs": [
    {
     "data": {
      "image/png": "[encoded data removed]",
      "text/plain": [
       "<Figure size 640x480 with 1 Axes>"
      ]
     },
     "metadata": {},
     "output_type": "display_data"
    }
   ],
   "source": [
    "x_train = tf.keras.utils.normalize(x_train, axis=1)\n",
    "x_test = tf.keras.utils.normalize(x_test, axis=1)\n",
    "\n",
    "plt.imshow(x_train[10], cmap=\"gray\")\n",
    "plt.show()\n",
    "# print(x_train[0])"
   ]
  },
  {
   "cell_type": "markdown",
   "metadata": {},
   "source": [
    "Also take a look at from the README.md file:\n",
    "- Activation functions\n",
    "- Optimizers\n",
    "- Loss functions\n",
    "- Layer types"
   ]
  },
  {
   "cell_type": "markdown",
   "metadata": {},
   "source": [
    "#### <i>Building the model by adding layers, compiling, fitting (training) and saving the model</i>"
   ]
  },
  {
   "cell_type": "code",
   "execution_count": null,
   "metadata": {},
   "outputs": [],
   "source": [
    "# Now the pre-processing part is over, now we will build the model and train it\n",
    "model = tf.keras.models.Sequential()  # Just a basic sequential neural network\n",
    "\n",
    "# Now we add each layer to our model using model.add(layerType) function\n",
    "# A flatten layer takes a p x q matrix and flattens it out into a list/array of p x q elements | Input layer\n",
    "\n",
    "# here the mnist dataset is in 28x28 pixels so we use 28x28 matrix\n",
    "model.add(tf.keras.layers.Flatten(input_shape=(28, 28)))  # first layer\n",
    "\n",
    "# Dense layer definition in README.md | We will be adding two dense layers\n",
    "model.add(tf.keras.layers.Dense(128, activation=\"relu\"))\n",
    "model.add(tf.keras.layers.Dense(128, activation=\"relu\"))\n",
    "\n",
    "# Now we will be adding the Output layer with ten neurons cause 10 digits = 10 possible outputs\n",
    "# Softmax Activation Function definition in README.md file\n",
    "model.add(tf.keras.layers.Dense(10, activation=\"softmax\"))\n",
    "\n",
    "# Now we gotta compile the model into binary for computer to actually understand and execute it\n",
    "model.compile(\n",
    "    optimizer=\"adam\", loss=\"sparse_categorical_crossentropy\", metrics=[\"accuracy\"]\n",
    ")\n",
    "\n",
    "# Now we need to train the model\n",
    "# epochs is how many times is the model going to see the same data all over again, standard 10-20 epochs\n",
    "# 10 epochs gives 99.5% accuracy and beyond that starts to slightly overfit due to diminishing returns\n",
    "model.fit(x_train, y_train, epochs=10)\n",
    "\n",
    "# After training the model we need to save it\n",
    "model.save(\"./models/handwritten.model\")"
   ]
  },
  {
   "cell_type": "markdown",
   "metadata": {},
   "source": [
    "#### <i>Loading the model, testing and prediction:</i>"
   ]
  },
  {
   "cell_type": "code",
   "execution_count": 3,
   "metadata": {},
   "outputs": [
    {
     "name": "stdout",
     "output_type": "stream",
     "text": [
      "1/1 [==============================] - 1s 603ms/step\n",
      "Digit 1 is probably a 3\n",
      "1/1 [==============================] - 0s 89ms/step\n",
      "Digit 2 is probably a 3\n",
      "1/1 [==============================] - 0s 39ms/step\n",
      "Digit 3 is probably a 2\n",
      "1/1 [==============================] - 0s 60ms/step\n",
      "Digit 4 is probably a 9\n",
      "1/1 [==============================] - 0s 33ms/step\n",
      "Digit 5 is probably a 8\n",
      "1/1 [==============================] - 0s 48ms/step\n",
      "Digit 6 is probably a 3\n"
     ]
    }
   ],
   "source": [
    "ready_model = tf.keras.models.load_model(\"../models/handwritten.model\")\n",
    "\n",
    "# loss, accuracy = ready_model.evaluate(x_test, y_test)\n",
    "\n",
    "# print(f\"Loss = {loss}\")  # 0.1% loss found\n",
    "# print(f\"Accuracy = {accuracy}\")  # 97% accuracy found\n",
    "\n",
    "image_number = 1\n",
    "\n",
    "while os.path.isfile(f\"../test/digit{image_number}.png\"):\n",
    "    try:\n",
    "        img = cv.imread(f\"../test/digit{image_number}.png\")[:, :, 0]\n",
    "        # inv_img = 1 - (img/255) # inverted image\n",
    "        # inv_img = np.array([inv_img], dtype=\"float32\")\n",
    "        # print(inv_img)\n",
    "        img = np.invert(np.array([img]))\n",
    "        # plt.imshow(img[0], cmap=\"gray\")\n",
    "        # plt.show()\n",
    "        # print(img/255)\n",
    "        img = img/255\n",
    "        prediction = ready_model.predict(img, batch_size=1)\n",
    "        print(f\"Digit {image_number} is probably a {np.argmax(prediction)}\")\n",
    "    except:\n",
    "        print(\"Some error occured\")\n",
    "    finally:\n",
    "        image_number += 1"
   ]
  },
  {
   "cell_type": "code",
   "execution_count": null,
   "metadata": {},
   "outputs": [],
   "source": [
    "# checking the current working directory\n",
    "print(os.getcwd())"
   ]
  }
 ],
 "metadata": {
  "kernelspec": {
   "display_name": "Python 3",
   "language": "python",
   "name": "python3"
  },
  "language_info": {
   "codemirror_mode": {
    "name": "ipython",
    "version": 3
   },
   "file_extension": ".py",
   "mimetype": "text/x-python",
   "name": "python",
   "nbconvert_exporter": "python",
   "pygments_lexer": "ipython3",
   "version": "3.10.11"
  }
 },
 "nbformat": 4,
 "nbformat_minor": 2
}
